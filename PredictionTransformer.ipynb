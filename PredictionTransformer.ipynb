{
 "cells": [
  {
   "cell_type": "code",
   "execution_count": 33,
   "metadata": {},
   "outputs": [],
   "source": [
    "import sys\n",
    "sys.path.append('..')\n",
    "\n",
    "import json\n",
    "import torch\n",
    "from pathlib import Path\n",
    "import numpy as np\n",
    "from sklearn.metrics import confusion_matrix\n",
    "\n",
    "#import pytorch_lightning as pl\n",
    "from multiprocessing import cpu_count\n",
    "from libraries.lightningDMBACNN import ImageFolderLightningDataModule, WhoiDataModule, ZooscanDataModule, LenslessDataModule, ZooLakeDataModule#from libraries.helper_functions import class_histogram, sample_images, imshow\n",
    "from torchvision.utils import make_grid\n",
    "import matplotlib.pyplot as plt\n",
    "import seaborn as sns\n",
    "from torchmetrics.classification import MulticlassAccuracy, MulticlassF1Score, MulticlassRecall, MulticlassPrecision\n",
    "\n",
    "#torch.cuda.empty_cache()\n",
    "\n",
    "\n",
    "NAME_OF_EXPERIMENT = 'test_hierar_Zooscan_v6_storage'\n",
    "#'test_hierar_Zooscan_v4'#'test_hierar_Zooscan_v5_storage'\n",
    "\n",
    "WORKING_DIR = Path.cwd()\n",
    "DATA_DIR =  Path.cwd().parent / 'data/Zooscan_hierarchical_imagefolder'\n",
    "\n",
    "EXPERIMENT_DIR = WORKING_DIR / f'experiments_folder/{NAME_OF_EXPERIMENT}'\n",
    "MODELS_DIR = EXPERIMENT_DIR / 'models'\n",
    "\n",
    "RESULTS_DIR = EXPERIMENT_DIR / 'results'\n",
    "\n",
    "MEAN_STD_PATH = Path.cwd() / 'libraries/saved_mean_std/Zooscan_mean_std_224'\n"
   ]
  },
  {
   "cell_type": "code",
   "execution_count": 44,
   "metadata": {},
   "outputs": [],
   "source": [
    "NUM_CLASSES = [[2, 13, 93], [2, 4, 9, 12, 81]]"
   ]
  },
  {
   "cell_type": "code",
   "execution_count": 45,
   "metadata": {
    "tags": []
   },
   "outputs": [],
   "source": [
    "datamodule = ImageFolderLightningDataModule(\n",
    "                                                        data_dir=DATA_DIR,\n",
    "                                                        mean_std_path = MEAN_STD_PATH,\n",
    "                                                        image_size = 224,\n",
    "                                                        batch_size = 8,\n",
    "                                                        split_seed = 42,\n",
    "                                                        num_workers=cpu_count(), \n",
    "                                                        sampler = True,                                             # Use True for Weighted Sampler or False to not use any\n",
    "                                                        pin_memory = True,   # Default is False\n",
    "                                                    )\n",
    "\n",
    "datamodule.setup()\n",
    "\n",
    "num_classes = datamodule.num_classes"
   ]
  },
  {
   "cell_type": "code",
   "execution_count": 46,
   "metadata": {
    "tags": []
   },
   "outputs": [
    {
     "data": {
      "text/plain": [
       "['IRRELEVANT___ARTEFACT___artefact',\n",
       " 'IRRELEVANT___ARTEFACT___badfocus__Copepoda',\n",
       " 'IRRELEVANT___ARTEFACT___badfocus__artefact',\n",
       " 'IRRELEVANT___ARTEFACT___bubble',\n",
       " 'IRRELEVANT___DETRITUS___detritus']"
      ]
     },
     "execution_count": 46,
     "metadata": {},
     "output_type": "execute_result"
    }
   ],
   "source": [
    "datamodule.dataset.classes[:5]"
   ]
  },
  {
   "cell_type": "markdown",
   "metadata": {},
   "source": [
    "# Transform 5 results in 3 results"
   ]
  },
  {
   "cell_type": "code",
   "execution_count": 52,
   "metadata": {},
   "outputs": [],
   "source": [
    "def calculate_final_distrib(c_pred_binary, c_pred_1_1, c_pred_1_2, c_pred_2_1, c_pred_2_2, NUM_CLASSES):\n",
    "    NUM_CLASSES_5 = NUM_CLASSES[1]\n",
    "    NUM_CLASSES_3 = NUM_CLASSES[0]\n",
    "    softmax = torch.nn.Softmax(dim=-1)\n",
    "    length = c_pred_binary.size()[0]\n",
    "    \n",
    "    # first layer\n",
    "    c_pred_1 = softmax(c_pred_binary.float())\n",
    "   \n",
    "    # second layer\n",
    "    c_1_1 = torch.argmax(c_pred_1_1.float(), dim=1)\n",
    "    c_2_1 = torch.argmax(c_pred_2_1.float(), dim=1)\n",
    "    c_1_2 = torch.argmax(c_pred_1_2.float(), dim=1)\n",
    "    c_2_2 = torch.argmax(c_pred_2_2.float(), dim=1)\n",
    "    \n",
    "    c_pred_2 = torch.zeros(length)\n",
    "    c_pred_3 = torch.zeros(length)\n",
    "    for i in range(length):\n",
    "        if c_pred_1[i, 0] >= 0.5:\n",
    "            c_pred_2[i] = c_1_1[i]\n",
    "            c_pred_3[i] = c_1_2[i]\n",
    "        else:#if c_pred_1[i, 0] < 0.5:\n",
    "            c_pred_2[i] = c_2_1[i] + NUM_CLASSES_5[1]\n",
    "            c_pred_3[i] = c_2_2[i] + NUM_CLASSES_5[3]\n",
    "        \n",
    "    c_pred_1 = torch.argmax(c_pred_1, dim=1)\n",
    "    \n",
    "    return c_pred_1, c_pred_2, c_pred_3"
   ]
  },
  {
   "cell_type": "code",
   "execution_count": 53,
   "metadata": {},
   "outputs": [],
   "source": [
    "def update_true_labels(c_true, NUM_CLASSES):\n",
    "    length = len(c_true)\n",
    "    c_true_binary = c_true[:, 0]\n",
    "    c_true_1_1 = c_true[:, 1]\n",
    "    c_true_1_2 = c_true[:, 2]\n",
    "    c_true_2_1 = c_true[:, 3]\n",
    "    c_true_2_2 = c_true[:, 4]\n",
    "    \n",
    "    \n",
    "    c_true_test = torch.Tensor([[c_true_binary[i], c_true_1_1[i], c_true_1_2[i]] if c_true_binary[i]<=0.5 else [c_true_binary[i], c_true_2_1[i] + NUM_CLASSES[1][1], c_true_2_2[i] + NUM_CLASSES[1][3]] for i in range(length)])\n",
    "    \n",
    "    return c_true_test"
   ]
  },
  {
   "cell_type": "code",
   "execution_count": 54,
   "metadata": {},
   "outputs": [],
   "source": [
    "c_pred_binary = torch.load(RESULTS_DIR/'c_pred_binary.pt', map_location=torch.device('cpu'))\n",
    "c_pred_1_1 = torch.load(RESULTS_DIR/'c_pred_1_1.pt', map_location=torch.device('cpu'))\n",
    "c_pred_1_2 = torch.load(RESULTS_DIR/'c_pred_1_2.pt', map_location=torch.device('cpu'))\n",
    "c_pred_2_1 = torch.load(RESULTS_DIR/'c_pred_2_1.pt', map_location=torch.device('cpu'))\n",
    "c_pred_2_2 = torch.load(RESULTS_DIR/'c_pred_2_2.pt', map_location=torch.device('cpu'))\n",
    "\n",
    "c_true = torch.load(RESULTS_DIR/'c_true_test.pt', map_location=torch.device('cpu'))\n",
    "torch.save(c_true, RESULTS_DIR/'c_true_5.pt')"
   ]
  },
  {
   "cell_type": "code",
   "execution_count": 55,
   "metadata": {},
   "outputs": [],
   "source": [
    "c_pred_1, c_pred_2, c_pred_3 = calculate_final_distrib(c_pred_binary, c_pred_1_1, c_pred_1_2, c_pred_2_1, c_pred_2_2, NUM_CLASSES)\n",
    "\n",
    "c_true_test = update_true_labels(c_true, NUM_CLASSES)"
   ]
  },
  {
   "cell_type": "code",
   "execution_count": 56,
   "metadata": {},
   "outputs": [],
   "source": [
    "torch.save(c_pred_1, RESULTS_DIR/'c_pred_1_test.pt')\n",
    "torch.save(c_pred_2, RESULTS_DIR/'c_pred_2_test.pt')\n",
    "torch.save(c_pred_3, RESULTS_DIR/'c_pred_3_test.pt')\n",
    "\n",
    "torch.save(c_true_test, RESULTS_DIR/'c_true_test.pt')"
   ]
  },
  {
   "cell_type": "code",
   "execution_count": null,
   "metadata": {},
   "outputs": [],
   "source": []
  }
 ],
 "metadata": {
  "kernelspec": {
   "display_name": "Python 3 (ipykernel)",
   "language": "python",
   "name": "python3"
  },
  "language_info": {
   "codemirror_mode": {
    "name": "ipython",
    "version": 3
   },
   "file_extension": ".py",
   "mimetype": "text/x-python",
   "name": "python",
   "nbconvert_exporter": "python",
   "pygments_lexer": "ipython3",
   "version": "3.9.2"
  }
 },
 "nbformat": 4,
 "nbformat_minor": 4
}
